{
 "cells": [
  {
   "cell_type": "markdown",
   "id": "147968b0",
   "metadata": {},
   "source": [
    "## 1. Write a Python program to convert kilometers to miles?"
   ]
  },
  {
   "cell_type": "code",
   "execution_count": null,
   "id": "ba94bda0",
   "metadata": {},
   "outputs": [],
   "source": [
    "kilometers = float(input(\"Enter value in kilometers: \"))\n",
    "\n",
    "# conversion factor\n",
    "conv_fac = 0.621371\n",
    "\n",
    "\n",
    "miles = kilometers * conv_fac\n",
    "print(miles)"
   ]
  },
  {
   "cell_type": "markdown",
   "id": "2dd6200c",
   "metadata": {},
   "source": [
    "## 2. Write a Python program to convert Celsius to Fahrenheit?"
   ]
  },
  {
   "cell_type": "code",
   "execution_count": null,
   "id": "948bc40d",
   "metadata": {},
   "outputs": [],
   "source": [
    "celsius =float(input('Enter the value in celsius'))\n",
    "\n",
    "fahrenheit = (celsius * 1.8) + 32\n",
    "print(fahrenheit)"
   ]
  },
  {
   "cell_type": "markdown",
   "id": "788f3668",
   "metadata": {},
   "source": [
    "## 3. Write a Python program to display calendar?"
   ]
  },
  {
   "cell_type": "code",
   "execution_count": null,
   "id": "6c438676",
   "metadata": {},
   "outputs": [],
   "source": [
    "import calendar\n",
    "\n",
    "yy = int(input('Enter years'))\n",
    "mm = int(input('Enter months'))\n",
    "\n",
    "\n",
    "print(calendar.month(yy, mm))\n"
   ]
  },
  {
   "cell_type": "markdown",
   "id": "553f39c6",
   "metadata": {},
   "source": [
    "## 4. Write a Python program to solve quadratic equation?"
   ]
  },
  {
   "cell_type": "code",
   "execution_count": null,
   "id": "3abd77ec",
   "metadata": {},
   "outputs": [],
   "source": [
    "import cmath\n",
    "\n",
    "a = int(input('Enter first number'))\n",
    "b = int(input('Enter second number'))\n",
    "c = int(input('Enter third number'))\n",
    "\n",
    "d = (b**2) - (4*a*c)\n",
    "e=cmath.sqrt(d)\n",
    "\n",
    "sol1 = (-b-e)/(2*a)\n",
    "sol2 = (-b+e)/(2*a)\n",
    "\n",
    "print('The solution are {0} and {1}'.format(sol1,sol2))"
   ]
  },
  {
   "cell_type": "markdown",
   "id": "88ae5a21",
   "metadata": {},
   "source": [
    "## 5. Write a Python program to swap two variables without temp variable?"
   ]
  },
  {
   "cell_type": "code",
   "execution_count": 9,
   "id": "ddfd28c9",
   "metadata": {},
   "outputs": [
    {
     "name": "stdout",
     "output_type": "stream",
     "text": [
      "Enter first number 5\n",
      "Enter second number 10\n"
     ]
    }
   ],
   "source": [
    "\n",
    "x=int(input('Enter first number '))\n",
    "y=int(input('Enter second number '))\n",
    "\n",
    "#swaping\n",
    "x,y =y,x"
   ]
  }
 ],
 "metadata": {
  "kernelspec": {
   "display_name": "Python 3 (ipykernel)",
   "language": "python",
   "name": "python3"
  },
  "language_info": {
   "codemirror_mode": {
    "name": "ipython",
    "version": 3
   },
   "file_extension": ".py",
   "mimetype": "text/x-python",
   "name": "python",
   "nbconvert_exporter": "python",
   "pygments_lexer": "ipython3",
   "version": "3.9.12"
  }
 },
 "nbformat": 4,
 "nbformat_minor": 5
}
